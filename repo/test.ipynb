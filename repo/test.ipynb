{
 "cells": [
  {
   "cell_type": "code",
   "execution_count": 1,
   "metadata": {},
   "outputs": [],
   "source": [
    "response = \"\"\"저는 2021년 9월까지의 정보를 바탕으로 대답을 드리는 AI 모델이므로, 최신 정보를 반영하지 못할 수 있습니다. 이완용에 대한 가장 최신 정보를 확인하려면 인터넷이나 관련 뉴스 소스를 참고하는 것이 좋습니다. 그러나 제가 가진 정보를 바탕으로 이완용에 대해 알려드리겠습니다.\n",
    "\n",
    "이완용은 한국의 정치인으로, 더불어민주당에 속해 있습니다. 1980년에 충청북도에서 태어났으며, 서울대학교 경제학과를 졸업한 뒤 경제학 석사 학위를 받았습니다. 이완용은 국제개발원에서 연구원으로 활동하고, 국제금융공사에서도 근무한 경력이 있습니다.\n",
    "\n",
    "이완용은 2020년 4월에 제21대 국회의원으로 당선되어 활동하고 있으며, 국회 교육문화체육관광위원회 위원장을 맡고 있습니다. 교육문화, 체육, 관광산업 발전을 위해 노력하고 있으며, 교육부 장관으로서 교육의 질을 향상시키는 방안을 모색하고 있습니다.\n",
    "\n",
    "이완용의 최신 동향이나 더 자세한 정보를 확인하려면, 인터넷 검색이나 관련 뉴스 소스를 참고하시면 됩니다.\"\"\"\n",
    "\n"
   ]
  },
  {
   "cell_type": "code",
   "execution_count": 17,
   "metadata": {},
   "outputs": [],
   "source": [
    "response_seo = \"\"\"서태지(Seo Taiji)는 대한민국의 음악가이자 가수로, 대한민국 음악사에 큰 영향을 미친 인물 중 하나입니다. 서태지는 1990년대 초반에 데뷔하여 그룹 \"서태지와 아이들\"의 멤버로 활동했습니다.\n",
    "\n",
    "서태지와 아이들은 대한민국 음악계에 혁신을 가져온 그룹으로, 전자음악과 록을 접목시킨 음악 스타일로 많은 사람들에게 큰 인기를 얻었습니다. 그들의 대표적인 곡 중 일부에는 \"난 알아요\"와 \"컴백홈\" 등이 있으며, 이들은 대중음악의 경계를 허물고 다양한 장르와 음악 스타일을 도입한 혁신적인 힙합과 록을 선보였습니다.\n",
    "\n",
    "서태지는 음악적인 창의력과 예술적인 실험으로 대한민국 음악계에 혁신을 가져온 인물로 평가받습니다. 그의 음악은 당시의 청소년들에게 강한 영향력을 미치며, 한국 대중음악의 방향을 바꾸는데 큰 역할을 했습니다. 서태지와 아이들은 1996년에 해체되었지만, 그의 음악은 여전히 많은 사람들에게 사랑받고 있으며 대한민국 음악사에 영향을 주는 중요한 존재입니다.\"\"\""
   ]
  },
  {
   "cell_type": "code",
   "execution_count": 2,
   "metadata": {},
   "outputs": [],
   "source": [
    "bing_response = \"\"\"이완용(李完用)은 1858년 7월 17일(음력 6월 7일)부터 1926년 2월 12일까지 살았던 대한제국의 관료입니다. 그는 을사조약, 기유각서, 정미 7조약, 한일 병합 조약을 체결하여 을사오적을 포함한 주요 친일파와 매국노로 평가됩니다 1. 이완용의 본관은 우봉(牛峰)이고, 자는 경덕(敬德), 호는 일당(一堂)입니다 1.\"\"\""
   ]
  },
  {
   "cell_type": "code",
   "execution_count": 3,
   "metadata": {},
   "outputs": [
    {
     "data": {
      "text/plain": [
       "[('저', '2021년 9월까지의 정보를 바탕으로 대답을 드리는 AI 모델이므로, 최신 정보를 반영하지 못할 수 있습니다'),\n",
       " ('이완용', '한국의 정치인으로, 더불어민주당에 속해 있습니다'),\n",
       " ('이완용', '국제개발원에서 연구원으로 활동하고, 국제금융공사에서도 근무한 경력이 있습니다'),\n",
       " ('이완용', '2020년 4월에 제21대 국회의원으로 당선되어 활동하고 있으며, 국회 교육문화체육관광위원회 위원장을 맡고 있습니다')]"
      ]
     },
     "execution_count": 3,
     "metadata": {},
     "output_type": "execute_result"
    }
   ],
   "source": [
    "import re\n",
    "pattern = r\"(\\S*[^하|키])[은|는]\\s([^\\.]*)\"\n",
    "re.findall(pattern, response)"
   ]
  },
  {
   "cell_type": "code",
   "execution_count": 4,
   "metadata": {},
   "outputs": [
    {
     "data": {
      "text/plain": [
       "[('이완용(李完用)', '1858년 7월 17일(음력 6월 7일)부터 1926년 2월 12일까지 살았던 대한제국의 관료입니다'),\n",
       " ('그', '을사조약, 기유각서, 정미 7조약, 한일 병합 조약을 체결하여 을사오적을 포함한 주요 친일파와 매국노로 평가됩니다 1'),\n",
       " ('본관', '우봉(牛峰)이고, 자는 경덕(敬德), 호는 일당(一堂)입니다 1')]"
      ]
     },
     "execution_count": 4,
     "metadata": {},
     "output_type": "execute_result"
    }
   ],
   "source": [
    "re.findall(pattern, bing_response)"
   ]
  },
  {
   "cell_type": "code",
   "execution_count": null,
   "metadata": {},
   "outputs": [],
   "source": []
  },
  {
   "cell_type": "code",
   "execution_count": null,
   "metadata": {},
   "outputs": [],
   "source": []
  },
  {
   "cell_type": "code",
   "execution_count": 5,
   "metadata": {},
   "outputs": [],
   "source": [
    "import requests\n",
    "\n",
    "def wikidata_query(s: str):\n",
    "    url = f\"https://www.wikidata.org/w/api.php?action=wbsearchentities&format=json&search={s}&language=ko\"\n",
    "    search_response = requests.request(\"GET\", url).json()\n",
    "    search_id = list(filter(lambda x: x.get('display').get('description') is not None, search_response.get(\"search\")))[0].get(\"id\")\n",
    "    url = f\"https://www.wikidata.org/w/api.php?action=wbgetentities&format=json&languages=ko&ids={search_id}\"\n",
    "    response = requests.request(\"GET\", url)\n",
    "\n",
    "    d = response.json()\n",
    "    return d.get(\"entities\").get(search_id).get(\"descriptions\").get(\"ko\").get(\"value\")\n",
    "\n"
   ]
  },
  {
   "cell_type": "code",
   "execution_count": 6,
   "metadata": {},
   "outputs": [
    {
     "data": {
      "text/plain": [
       "'대한제국의 내각총리대신 (1858-1926)'"
      ]
     },
     "execution_count": 6,
     "metadata": {},
     "output_type": "execute_result"
    }
   ],
   "source": [
    "wikidata_query(\"이완용\")"
   ]
  },
  {
   "cell_type": "code",
   "execution_count": 7,
   "metadata": {},
   "outputs": [
    {
     "data": {
      "text/plain": [
       "'대한민국의 음악가'"
      ]
     },
     "execution_count": 7,
     "metadata": {},
     "output_type": "execute_result"
    }
   ],
   "source": [
    "wikidata_query(\"서태지\")"
   ]
  },
  {
   "cell_type": "code",
   "execution_count": 11,
   "metadata": {},
   "outputs": [
    {
     "data": {
      "text/plain": [
       "['대한민국', '음악가']"
      ]
     },
     "execution_count": 11,
     "metadata": {},
     "output_type": "execute_result"
    }
   ],
   "source": [
    "import os\n",
    "os.environ[\"JAVA_HOME\"] = \"/home/sejeonglee/.sdkman/candidates/java/current\"\n",
    "from konlpy.tag import Okt\n",
    "\n",
    "m = Okt()\n",
    "m.nouns('대한민국의 음악가')"
   ]
  },
  {
   "cell_type": "code",
   "execution_count": 21,
   "metadata": {},
   "outputs": [
    {
     "data": {
      "text/plain": [
       "False"
      ]
     },
     "execution_count": 21,
     "metadata": {},
     "output_type": "execute_result"
    }
   ],
   "source": [
    "\"내각총리대신\" in set(m.nouns(bing_response))"
   ]
  },
  {
   "cell_type": "code",
   "execution_count": 28,
   "metadata": {},
   "outputs": [],
   "source": [
    "import wikipediaapi #사용할 api 호출\n",
    "\n",
    "wiki=wikipediaapi.Wikipedia('ko') #한국 wikipedia 사이트로 접속하도록 셋팅하기]\n",
    "page_py = wiki.page('서태지')\n",
    "summary = page_py.summary"
   ]
  },
  {
   "cell_type": "code",
   "execution_count": 29,
   "metadata": {},
   "outputs": [
    {
     "data": {
      "text/plain": [
       "{'대한민국', '서태지', '음악가'}"
      ]
     },
     "execution_count": 29,
     "metadata": {},
     "output_type": "execute_result"
    }
   ],
   "source": [
    "set(m.nouns(summary)).intersection(set(m.nouns(response_seo)))"
   ]
  },
  {
   "cell_type": "code",
   "execution_count": 5,
   "metadata": {},
   "outputs": [],
   "source": [
    "import re\n",
    "import sys\n",
    "from konlpy.tag import Okt\n",
    "import requests\n",
    "import wikipediaapi\n",
    "\n",
    "pattern = r\"(\\S*[^하|키])[은|는]\\s([^\\.]*)\"\n",
    "entities = re.findall(pattern, response)\n",
    "okt = Okt()\n",
    "wiki = wikipediaapi.Wikipedia(\"ko\")"
   ]
  },
  {
   "cell_type": "code",
   "execution_count": 6,
   "metadata": {},
   "outputs": [
    {
     "data": {
      "text/plain": [
       "[('저', '2021년 9월까지의 정보를 바탕으로 대답을 드리는 AI 모델이므로, 최신 정보를 반영하지 못할 수 있습니다'),\n",
       " ('이완용', '한국의 정치인으로, 더불어민주당에 속해 있습니다'),\n",
       " ('이완용', '국제개발원에서 연구원으로 활동하고, 국제금융공사에서도 근무한 경력이 있습니다'),\n",
       " ('이완용', '2020년 4월에 제21대 국회의원으로 당선되어 활동하고 있으며, 국회 교육문화체육관광위원회 위원장을 맡고 있습니다')]"
      ]
     },
     "execution_count": 6,
     "metadata": {},
     "output_type": "execute_result"
    }
   ],
   "source": [
    "entities"
   ]
  },
  {
   "cell_type": "code",
   "execution_count": 7,
   "metadata": {},
   "outputs": [
    {
     "name": "stdout",
     "output_type": "stream",
     "text": [
      "set()\n",
      "set()\n",
      "set()\n",
      "set()\n"
     ]
    }
   ],
   "source": [
    "for entity, desc in entities:\n",
    "    print(entity)\n",
    "    page_py = wiki.page(entity)\n",
    "    if not page_py.exists():\n",
    "        continue\n",
    "    summary = page_py.summary\n",
    "    print(set(okt.nouns(summary)).intersection(set(okt.nouns(sys.argv[1]))))"
   ]
  },
  {
   "cell_type": "code",
   "execution_count": 13,
   "metadata": {},
   "outputs": [
    {
     "data": {
      "text/plain": [
       "{'이완용'}"
      ]
     },
     "execution_count": 13,
     "metadata": {},
     "output_type": "execute_result"
    }
   ],
   "source": [
    "set(okt.nouns(wiki.page('이완용').summary)).intersection(set(okt.nouns(response)))"
   ]
  },
  {
   "cell_type": "code",
   "execution_count": 12,
   "metadata": {},
   "outputs": [
    {
     "data": {
      "text/plain": [
       "{'가장',\n",
       " '개발',\n",
       " '검색',\n",
       " '것',\n",
       " '경력',\n",
       " '경제학',\n",
       " '공사',\n",
       " '관광',\n",
       " '관련',\n",
       " '교육',\n",
       " '교육부',\n",
       " '국제',\n",
       " '국회',\n",
       " '국회의원',\n",
       " '근무',\n",
       " '금융',\n",
       " '노력',\n",
       " '뉴스',\n",
       " '당선',\n",
       " '대답',\n",
       " '대한',\n",
       " '대해',\n",
       " '더',\n",
       " '동향',\n",
       " '뒤',\n",
       " '모델',\n",
       " '모색',\n",
       " '문화',\n",
       " '므',\n",
       " '민주당',\n",
       " '바탕',\n",
       " '반영',\n",
       " '발전',\n",
       " '방안',\n",
       " '산업',\n",
       " '서울대학교',\n",
       " '석사',\n",
       " '소스',\n",
       " '수',\n",
       " '연구원',\n",
       " '위원장',\n",
       " '위원회',\n",
       " '위해',\n",
       " '이완용',\n",
       " '인터넷',\n",
       " '장관',\n",
       " '저',\n",
       " '정보',\n",
       " '정치인',\n",
       " '제',\n",
       " '졸업',\n",
       " '질',\n",
       " '참고',\n",
       " '체육',\n",
       " '최신',\n",
       " '충청북도',\n",
       " '학위',\n",
       " '한국',\n",
       " '해',\n",
       " '향상',\n",
       " '확인',\n",
       " '활동'}"
      ]
     },
     "execution_count": 12,
     "metadata": {},
     "output_type": "execute_result"
    }
   ],
   "source": [
    "set(okt.nouns(response))"
   ]
  },
  {
   "cell_type": "code",
   "execution_count": null,
   "metadata": {},
   "outputs": [],
   "source": []
  }
 ],
 "metadata": {
  "kernelspec": {
   "display_name": "capstone-WiT4c78G-py3.10",
   "language": "python",
   "name": "python3"
  },
  "language_info": {
   "codemirror_mode": {
    "name": "ipython",
    "version": 3
   },
   "file_extension": ".py",
   "mimetype": "text/x-python",
   "name": "python",
   "nbconvert_exporter": "python",
   "pygments_lexer": "ipython3",
   "version": "3.10.6"
  },
  "orig_nbformat": 4
 },
 "nbformat": 4,
 "nbformat_minor": 2
}
