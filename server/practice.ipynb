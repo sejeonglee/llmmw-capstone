{
 "cells": [
  {
   "cell_type": "code",
   "execution_count": 9,
   "metadata": {},
   "outputs": [],
   "source": [
    "import openai\n",
    "import re\n",
    "\n",
    "with open(\n",
    "    \"llmprovider/openai_key.txt\", encoding=\"utf8\", mode=\"r\"\n",
    ") as apikeyfile:\n",
    "    openai.api_key = apikeyfile.read()"
   ]
  },
  {
   "cell_type": "code",
   "execution_count": 3,
   "metadata": {},
   "outputs": [],
   "source": [
    "prompt = \"python 3.10의 match statement를 사용한 코드 하나만 보여줘\""
   ]
  },
  {
   "cell_type": "code",
   "execution_count": 4,
   "metadata": {},
   "outputs": [],
   "source": [
    "completion = openai.ChatCompletion.create(\n",
    "        model=\"gpt-3.5-turbo\",\n",
    "        messages=[\n",
    "            {\n",
    "                \"role\": \"user\",\n",
    "                \"content\": prompt,\n",
    "            }\n",
    "        ],\n",
    "    )"
   ]
  },
  {
   "cell_type": "code",
   "execution_count": 14,
   "metadata": {},
   "outputs": [],
   "source": [
    "def extract_python_code(s):\n",
    "    pattern = re.compile(r\"```python(.*?)```\", re.DOTALL)\n",
    "    match = pattern.search(s)\n",
    "    if match:\n",
    "        return match.group(1)\n",
    "    else:\n",
    "        return None"
   ]
  },
  {
   "cell_type": "code",
   "execution_count": 15,
   "metadata": {},
   "outputs": [
    {
     "data": {
      "text/plain": [
       "'\\ndef calculate(item):\\n    match item:\\n        case 1:\\n            return \"One\"\\n        case 2, 3:\\n            return \"Two or three\"\\n        case _ if item > 3:\\n            return \"Greater than three\"\\n        case _:\\n            return \"Other\"\\n\\nprint(calculate(1)) # 출력: One\\nprint(calculate(2)) # 출력: Two or three\\nprint(calculate(4)) # 출력: Greater than three\\nprint(calculate(\"hello\")) # 출력: Other\\n'"
      ]
     },
     "execution_count": 15,
     "metadata": {},
     "output_type": "execute_result"
    }
   ],
   "source": [
    "extract_python_code(completion.choices[0].message.content)"
   ]
  },
  {
   "cell_type": "code",
   "execution_count": null,
   "metadata": {},
   "outputs": [],
   "source": [
    "  "
   ]
  }
 ],
 "metadata": {
  "kernelspec": {
   "display_name": "capstone-WiT4c78G-py3.10",
   "language": "python",
   "name": "python3"
  },
  "language_info": {
   "codemirror_mode": {
    "name": "ipython",
    "version": 3
   },
   "file_extension": ".py",
   "mimetype": "text/x-python",
   "name": "python",
   "nbconvert_exporter": "python",
   "pygments_lexer": "ipython3",
   "version": "3.10.6"
  },
  "orig_nbformat": 4
 },
 "nbformat": 4,
 "nbformat_minor": 2
}
